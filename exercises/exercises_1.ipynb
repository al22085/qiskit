{
 "cells": [
  {
   "cell_type": "code",
   "execution_count": 12,
   "id": "a664813e",
   "metadata": {},
   "outputs": [],
   "source": [
    "import sys\n",
    "import os\n",
    "\n",
    "sys.path.append(os.path.abspath(\"..\"))\n",
    "\n",
    "from utils.init import *"
   ]
  },
  {
   "cell_type": "markdown",
   "id": "ff69ebdd",
   "metadata": {},
   "source": [
    "問題 1"
   ]
  },
  {
   "cell_type": "code",
   "execution_count": 13,
   "id": "928da49c",
   "metadata": {},
   "outputs": [],
   "source": [
    "circuits = []\n",
    "\n",
    "##################\n",
    "### EDIT BELOW ###\n",
    "##################\n",
    "\n",
    "#講義と同様に4通りの回路を用意し、circuitsに編入する\n",
    "\n",
    "# Circuit I - H, CX[0, 1], Ry(-π/4)[1]\n",
    "circuit = QuantumCircuit(2, name='circuit_I')\n",
    "circuit.h(0)\n",
    "circuit.cx(0, 1)\n",
    "circuit.ry(-np.pi / 4., 1)\n",
    "circuit.measure_all()\n",
    "# Append to list\n",
    "circuits.append(circuit)\n",
    "\n",
    "# Circuit II - H, CX[0, 1], Ry(-3π/4)[1]\n",
    "circuit = QuantumCircuit(2, name='circuit_II')\n",
    "circuit.h(0)\n",
    "circuit.cx(0, 1)\n",
    "circuit.ry(-3. * np.pi / 4., 1)\n",
    "circuit.measure_all()\n",
    "# Append to list\n",
    "circuits.append(circuit)\n",
    "\n",
    "# Circuit III - H, CX[0, 1], Ry(-π/4)[1], Ry(-π/2)[0]\n",
    "circuit = QuantumCircuit(2, name='circuit_III')\n",
    "circuit.h(0)\n",
    "circuit.cx(0, 1)\n",
    "circuit.ry(-np.pi / 4., 1)\n",
    "circuit.ry(-np.pi / 2., 0)\n",
    "circuit.measure_all()\n",
    "# Append to list\n",
    "circuits.append(circuit)\n",
    "\n",
    "# Circuit IV - H, CX[0, 1], Ry(-3π/4)[1], Ry(-π/2)[0]\n",
    "circuit = QuantumCircuit(2, name='circuit_IV')\n",
    "circuit.h(0)\n",
    "circuit.cx(0, 1)\n",
    "circuit.ry(-3. * np.pi / 4., 1)\n",
    "circuit.ry(-np.pi / 2., 0)\n",
    "circuit.measure_all()\n",
    "# Append to list\n",
    "circuits.append(circuit)\n",
    "\n",
    "##################\n",
    "### EDIT ABOVE ###\n",
    "##################"
   ]
  },
  {
   "cell_type": "code",
   "execution_count": 14,
   "id": "98444583",
   "metadata": {},
   "outputs": [
    {
     "name": "stdout",
     "output_type": "stream",
     "text": [
      "S = 2.8268\n"
     ]
    }
   ],
   "source": [
    "# シミュレータにはショット数の制限がないので、時間の許す限りいくらでも大きい値を使っていい\n",
    "shots = 10000\n",
    "\n",
    "# 実習と同じく transpile() - 今は「おまじない」と思ってよい\n",
    "circuits = transpile(circuits, backend=simulator)\n",
    "# シミュレータもバックエンドと同じように振る舞うので、runメソッドで回路とショット数を受け取り、ジョブオブジェクトを返す\n",
    "job = sampler.run(circuits, shots=shots)\n",
    "\n",
    "# シミュレータから渡されたジョブオブジェクトは実機のジョブと全く同じように扱える\n",
    "result = job.result()\n",
    "\n",
    "c_arr = np.zeros(4, dtype=float)\n",
    "\n",
    "##################\n",
    "### EDIT BELOW ###\n",
    "##################\n",
    "\n",
    "#講義と同様にSamplerの結果からc_arrを計算する\n",
    "\n",
    "# List to collect the histogram data from the four circuits\n",
    "counts_list = []\n",
    "\n",
    "# Extracting the bit sequence counts from the result object\n",
    "for idx in range(4):\n",
    "    # get_counts(i) returns the histogram data for circuit i\n",
    "    counts = result[idx].data.meas.get_counts()\n",
    "    # Append to list\n",
    "    counts_list.append(counts)\n",
    "\n",
    "# enumerate(L)でリストのインデックスと対応する要素に関するループを回せる\n",
    "for ic, counts in enumerate(counts_list):\n",
    "    # counts['00'] でなく counts.get('00', 0) - 上のテキストを参照\n",
    "    c_arr[ic] = counts.get('00', 0) + counts.get('11', 0) - counts.get('01', 0) - counts.get('10', 0)\n",
    "\n",
    "##################\n",
    "### EDIT ABOVE ###\n",
    "##################\n",
    "\n",
    "c_arr /= shots\n",
    "\n",
    "s_val = c_arr[0] - c_arr[1] + c_arr[2] + c_arr[3]\n",
    "print('S =', s_val)"
   ]
  },
  {
   "cell_type": "markdown",
   "id": "9c0096f3",
   "metadata": {},
   "source": [
    "問題 2"
   ]
  },
  {
   "cell_type": "code",
   "execution_count": 15,
   "id": "d4272cd2",
   "metadata": {},
   "outputs": [],
   "source": [
    "# Consider 20 points each for theta and phi (400 points total)\n",
    "ntheta = 20\n",
    "nchi = 20\n",
    "\n",
    "thetas = np.linspace(0., np.pi, ntheta)\n",
    "chis = np.linspace(0., np.pi, nchi)\n",
    "\n",
    "# Construct a circuit for each (theta, chi) pair\n",
    "circuits = []\n",
    "# np.ndindex returns an iterator over a multi-dimensional array\n",
    "# -> idx = (0, 0), (0, 1), ..., (1, 0), (1, 1), ...\n",
    "for idx in np.ndindex(ntheta, nchi):\n",
    "    theta = thetas[idx[0]]\n",
    "    chi = chis[idx[1]]\n",
    "\n",
    "    circuit = QuantumCircuit(2, name=f'circuit_{idx[0]}_{idx[1]}')\n",
    "\n",
    "    # Create a circuit that forms a Bell state, applies Ry gates with theta and chi\n",
    "    # as arguments, and measures the state\n",
    "\n",
    "    ##################\n",
    "    ### EDIT BELOW ###\n",
    "    ##################\n",
    "\n",
    "    #circuit.?\n",
    "    circuit.ry(theta, 0)\n",
    "    circuit.ry(chi, 1)\n",
    "\n",
    "    ##################\n",
    "    ### EDIT ABOVE ###\n",
    "    ##################\n",
    "\n",
    "    circuit.measure_all()\n",
    "\n",
    "    circuits.append(circuit)\n",
    "\n",
    "# Execute all circuits in Sampler and retrieve the results\n",
    "shots = 10000\n",
    "circuits = transpile(circuits, backend=simulator)\n",
    "job = sampler.run(circuits, shots=shots)\n",
    "result = job.result()"
   ]
  },
  {
   "cell_type": "code",
   "execution_count": 16,
   "id": "6a17626c",
   "metadata": {},
   "outputs": [
    {
     "data": {
      "text/plain": [
       "<matplotlib.collections.PathCollection at 0x7f8c3f957cd0>"
      ]
     },
     "execution_count": 16,
     "metadata": {},
     "output_type": "execute_result"
    },
    {
     "data": {
      "image/png": "[encoded data removed]",
      "text/plain": [
       "<Figure size 640x480 with 2 Axes>"
      ]
     },
     "metadata": {},
     "output_type": "display_data"
    }
   ],
   "source": [
    "# Compute the C values for each (theta, chi)\n",
    "c_values = np.zeros((ntheta, nchi), dtype=float)\n",
    "for icirc, idx in enumerate(np.ndindex(ntheta, nchi)):\n",
    "    # This is the counts dict for the (theta, chi) pair\n",
    "    counts = result[icirc].data.meas.get_counts()\n",
    "\n",
    "    ##################\n",
    "    ### EDIT BELOW ###\n",
    "    ##################\n",
    "\n",
    "    #c_values[idx] = ?\n",
    "    c_values[idx] += counts.get('00', 0) + counts.get('11', 0) - counts.get('01', 0) - counts.get('10', 0)\n",
    "    c_values[idx] /= sum(counts.values())\n",
    "\n",
    "    ##################\n",
    "    ### EDIT ABOVE ###\n",
    "    ##################\n",
    "\n",
    "# Making a 2D plot using imshow()\n",
    "# The theta dimension of c_values must be reversed because imshow() puts the origin at the top left corner\n",
    "dtheta = (thetas[1] - thetas[0]) * 0.5\n",
    "dchi = (chis[1] - chis[0]) * 0.5\n",
    "plt.imshow(c_values[::-1], extent=(chis[0] - dchi, chis[-1] + dchi, thetas[0] - dtheta, thetas[-1] + dtheta))\n",
    "plt.xlabel(r'$\\chi$')\n",
    "plt.ylabel(r'$\\theta$')\n",
    "plt.colorbar(label='C')\n",
    "# Place markers at theta and chi values that realize |S| = 2 sqrt(2)\n",
    "plt.scatter([np.pi / 4., np.pi / 4., 3. * np.pi / 4.], [0., np.pi / 2., np.pi / 2.], c='red', marker='+')\n",
    "plt.scatter([3. * np.pi / 4.], [0.], c='white', marker='+')"
   ]
  },
  {
   "cell_type": "markdown",
   "id": "8487c3f2",
   "metadata": {},
   "source": [
    "問題 3"
   ]
  },
  {
   "cell_type": "code",
   "execution_count": 17,
   "id": "6bdf50bc",
   "metadata": {},
   "outputs": [],
   "source": [
    "# Construct a circuit for each (theta, chi) pair\n",
    "circuits_ghz = []\n",
    "# np.ndindex returns an iterator over a multi-dimensional array\n",
    "# -> idx = (0, 0), (0, 1), ..., (1, 0), (1, 1), ...\n",
    "for idx in np.ndindex(ntheta, nchi):\n",
    "    theta = thetas[idx[0]]\n",
    "    chi = chis[idx[1]]\n",
    "\n",
    "    circuit = QuantumCircuit(3, name=f'circuit_{idx[0]}_{idx[1]}')\n",
    "\n",
    "    # Create a circuit that forms a GHZ state and then measures the two qubits\n",
    "    # along theta and chi bases\n",
    "\n",
    "    ##################\n",
    "    ### EDIT BELOW ###\n",
    "    ##################\n",
    "\n",
    "    #circuit.?\n",
    "    circuit.ry(theta, 0)\n",
    "    circuit.ry(chi, 1)\n",
    "\n",
    "    ##################\n",
    "    ### EDIT ABOVE ###\n",
    "    ##################\n",
    "\n",
    "    circuit.measure_all()\n",
    "\n",
    "    circuits_ghz.append(circuit)\n",
    "\n",
    "# Execute all circuits in qasm_simulator and retrieve the results\n",
    "circuits_ghz = transpile(circuits_ghz, backend=simulator)\n",
    "sim_job_ghz = sampler.run(circuits_ghz, shots=shots)\n",
    "result_ghz = sim_job_ghz.result()"
   ]
  },
  {
   "cell_type": "code",
   "execution_count": 18,
   "id": "ee6bc84c",
   "metadata": {},
   "outputs": [
    {
     "data": {
      "text/plain": [
       "<matplotlib.colorbar.Colorbar at 0x7f8c2f4c5690>"
      ]
     },
     "execution_count": 18,
     "metadata": {},
     "output_type": "execute_result"
    },
    {
     "data": {
      "image/png": "[encoded data removed]",
      "text/plain": [
       "<Figure size 640x480 with 2 Axes>"
      ]
     },
     "metadata": {},
     "output_type": "display_data"
    }
   ],
   "source": [
    "def counts_ignoring_qubit2(counts, bitstring):\n",
    "    \"\"\"Add the counts of cases where qubit C is 0 and 1\"\"\"\n",
    "\n",
    "    return counts.get(f'0{bitstring}', 0) + counts.get(f'1{bitstring}', 0)\n",
    "\n",
    "# Compute the C values for each (theta, chi)\n",
    "c_values_ghz = np.zeros((ntheta, nchi), dtype=float)\n",
    "for icirc, idx in enumerate(np.ndindex(ntheta, nchi)):\n",
    "    # This is the counts dict for the (theta, chi) pair\n",
    "    counts = result_ghz[icirc].data.meas.get_counts()\n",
    "\n",
    "    ##################\n",
    "    ### EDIT BELOW ###\n",
    "    ##################\n",
    "\n",
    "    #c_values_ghz[idx] = ?\n",
    "    c_values_ghz[idx] += counts_ignoring_qubit2(counts, '00') + counts_ignoring_qubit2(counts, '11') - counts_ignoring_qubit2(counts, '01') - counts_ignoring_qubit2(counts, '10')\n",
    "    c_values_ghz[idx] /= sum(counts.values())\n",
    "\n",
    "    ##################\n",
    "    ### EDIT ABOVE ###\n",
    "    ##################\n",
    "\n",
    "# Making a 2D plot using imshow()\n",
    "# The theta dimension of c_values must be reversed because imshow() puts the origin at the top left corner\n",
    "plt.imshow(c_values_ghz[::-1], extent=(chis[0] - dchi, chis[-1] + dchi, thetas[0] - dtheta, thetas[-1] + dtheta))\n",
    "plt.xlabel(r'$\\chi$')\n",
    "plt.ylabel(r'$\\theta$')\n",
    "plt.colorbar(label='C')"
   ]
  },
  {
   "cell_type": "code",
   "execution_count": 19,
   "id": "b6e97ba9",
   "metadata": {},
   "outputs": [
    {
     "name": "stdout",
     "output_type": "stream",
     "text": [
      "max |S| = 2.0370000000000004\n"
     ]
    }
   ],
   "source": [
    "max_abs_s = 0.\n",
    "\n",
    "# Use ndindex to iterate over all index combinations\n",
    "for ikappa, ilambda, imu, inu in np.ndindex(ntheta, nchi, ntheta, nchi):\n",
    "    abs_s = abs(c_values_ghz[ikappa, ilambda] - c_values_ghz[ikappa, inu] + c_values_ghz[imu, ilambda] + c_values_ghz[imu, inu])\n",
    "    max_abs_s = max(abs_s, max_abs_s)\n",
    "\n",
    "print(f'max |S| = {max_abs_s}')"
   ]
  }
 ],
 "metadata": {
  "kernelspec": {
   "display_name": "qiskit_env",
   "language": "python",
   "name": "python3"
  },
  "language_info": {
   "codemirror_mode": {
    "name": "ipython",
    "version": 3
   },
   "file_extension": ".py",
   "mimetype": "text/x-python",
   "name": "python",
   "nbconvert_exporter": "python",
   "pygments_lexer": "ipython3",
   "version": "3.11.0rc1"
  }
 },
 "nbformat": 4,
 "nbformat_minor": 5
}
